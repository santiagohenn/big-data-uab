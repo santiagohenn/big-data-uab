{
 "cells": [
  {
   "cell_type": "markdown",
   "metadata": {
    "id": "Ntfq-WNV5jNi"
   },
   "source": [
    "# Instalar el software"
   ]
  },
  {
   "cell_type": "code",
   "execution_count": 1,
   "metadata": {
    "id": "loU-W3EM90lN"
   },
   "outputs": [],
   "source": [
    "!apt-get install openjdk-8-jdk-headless -qq > /dev/null\n",
    "!wget -q http://archive.apache.org/dist/spark/spark-3.1.1/spark-3.1.1-bin-hadoop3.2.tgz\n",
    "!tar xf spark-3.1.1-bin-hadoop3.2.tgz\n",
    "!pip install -q findspark"
   ]
  },
  {
   "cell_type": "code",
   "execution_count": 2,
   "metadata": {
    "id": "69YzYZ91-MxM"
   },
   "outputs": [],
   "source": [
    "import os\n",
    "os.environ[\"JAVA_HOME\"] = \"/usr/lib/jvm/java-8-openjdk-amd64\"\n",
    "os.environ[\"SPARK_HOME\"] = \"/content/spark-3.1.1-bin-hadoop3.2\"\n",
    "import findspark\n",
    "findspark.init()\n",
    "from pyspark.sql import SparkSession\n",
    "from pyspark.sql.functions import *"
   ]
  },
  {
   "cell_type": "markdown",
   "metadata": {
    "id": "TKe7tCDC5vtc"
   },
   "source": [
    "# Crear la sesión"
   ]
  },
  {
   "cell_type": "code",
   "execution_count": 3,
   "metadata": {
    "id": "HG5-UBX2-RoB"
   },
   "outputs": [],
   "source": [
    "\n",
    "spark = SparkSession.builder.master(\"local[*]\").getOrCreate()\n",
    "spark.conf.set(\"spark.sql.repl.eagerEval.enabled\", True)"
   ]
  },
  {
   "cell_type": "markdown",
   "metadata": {
    "id": "hTk623lZ596P"
   },
   "source": [
    "# Leer los datos"
   ]
  },
  {
   "cell_type": "code",
   "execution_count": 4,
   "metadata": {
    "colab": {
     "base_uri": "https://localhost:8080/"
    },
    "id": "8ZRdLsD0-fhl",
    "outputId": "c4f697a2-7ffe-4c7e-a5d9-26c1c36dec24"
   },
   "outputs": [
    {
     "name": "stdout",
     "output_type": "stream",
     "text": [
      "root\n",
      " |-- date: string (nullable = true)\n",
      " |-- time: string (nullable = true)\n",
      " |-- customer: integer (nullable = true)\n",
      " |-- product: integer (nullable = true)\n",
      " |-- quantity: integer (nullable = true)\n",
      " |-- price: integer (nullable = true)\n",
      "\n",
      "root\n",
      " |-- ID: integer (nullable = true)\n",
      " |-- NAME: string (nullable = true)\n",
      " |-- COLOR: string (nullable = true)\n",
      "\n",
      "root\n",
      " |-- ID: integer (nullable = true)\n",
      " |-- PRICE: integer (nullable = true)\n",
      " |-- STOCKNUM: integer (nullable = true)\n",
      "\n"
     ]
    }
   ],
   "source": [
    "customers = spark.read.option(\"inferSchema\",\"true\").option(\"header\",\"true\").csv(\"customers.csv\")\n",
    "products = spark.read.option(\"inferSchema\",\"true\").option(\"header\",\"true\").csv(\"products.csv\")\n",
    "stock = spark.read.option(\"inferSchema\",\"true\").option(\"header\",\"true\").csv(\"stock.csv\")\n",
    "customers.printSchema()\n",
    "products.printSchema()\n",
    "stock.printSchema()"
   ]
  },
  {
   "cell_type": "code",
   "execution_count": 5,
   "metadata": {
    "colab": {
     "base_uri": "https://localhost:8080/",
     "height": 559
    },
    "id": "1qRdHA-X-oWZ",
    "outputId": "ece31bca-33b4-44cb-dda6-e9d5a9f7988c"
   },
   "outputs": [
    {
     "name": "stdout",
     "output_type": "stream",
     "text": [
      "root\n",
      " |-- date: string (nullable = true)\n",
      " |-- time: string (nullable = true)\n",
      " |-- customer: integer (nullable = true)\n",
      " |-- product: integer (nullable = true)\n",
      " |-- quantity: integer (nullable = true)\n",
      " |-- price: integer (nullable = true)\n",
      "\n",
      "+----------+--------+--------+-------+--------+-----+\n",
      "|      date|    time|customer|product|quantity|price|\n",
      "+----------+--------+--------+-------+--------+-----+\n",
      "|05/10/2018| 2:20 PM|     100|      1|      10|  816|\n",
      "|06/10/2018| 3:30 PM|     100|      1|      10|    1|\n",
      "|07/10/2018| 5:20 PM|     100|      1|      10|   10|\n",
      "|04/08/2018|11:38 PM|     100|      2|       8|   79|\n",
      "|25/03/2018| 3:52 AM|     100|      3|       1|   91|\n",
      "+----------+--------+--------+-------+--------+-----+\n",
      "only showing top 5 rows\n",
      "\n"
     ]
    },
    {
     "data": {
      "text/html": [
       "<table border='1'>\n",
       "<tr><th>summary</th><th>date</th><th>time</th><th>customer</th><th>product</th><th>quantity</th><th>price</th></tr>\n",
       "<tr><td>count</td><td>1002</td><td>1002</td><td>1002</td><td>1002</td><td>1002</td><td>1002</td></tr>\n",
       "<tr><td>mean</td><td>null</td><td>null</td><td>114.62574850299401</td><td>5.491017964071856</td><td>4.481037924151696</td><td>50.9500998003992</td></tr>\n",
       "<tr><td>stddev</td><td>null</td><td>null</td><td>8.769136669632404</td><td>2.877870223733518</td><td>2.946431445375335</td><td>37.7535187341949</td></tr>\n",
       "<tr><td>min</td><td>01/01/2018</td><td>10:00 AM</td><td>100</td><td>1</td><td>0</td><td>0</td></tr>\n",
       "<tr><td>25%</td><td>null</td><td>null</td><td>107</td><td>3</td><td>2</td><td>25</td></tr>\n",
       "<tr><td>50%</td><td>null</td><td>null</td><td>115</td><td>5</td><td>4</td><td>51</td></tr>\n",
       "<tr><td>75%</td><td>null</td><td>null</td><td>122</td><td>8</td><td>7</td><td>75</td></tr>\n",
       "<tr><td>max</td><td>31/12/2017</td><td>9:59 AM</td><td>130</td><td>10</td><td>10</td><td>816</td></tr>\n",
       "</table>\n"
      ],
      "text/plain": [
       "+-------+----------+--------+------------------+-----------------+-----------------+----------------+\n",
       "|summary|      date|    time|          customer|          product|         quantity|           price|\n",
       "+-------+----------+--------+------------------+-----------------+-----------------+----------------+\n",
       "|  count|      1002|    1002|              1002|             1002|             1002|            1002|\n",
       "|   mean|      null|    null|114.62574850299401|5.491017964071856|4.481037924151696|50.9500998003992|\n",
       "| stddev|      null|    null| 8.769136669632404|2.877870223733518|2.946431445375335|37.7535187341949|\n",
       "|    min|01/01/2018|10:00 AM|               100|                1|                0|               0|\n",
       "|    25%|      null|    null|               107|                3|                2|              25|\n",
       "|    50%|      null|    null|               115|                5|                4|              51|\n",
       "|    75%|      null|    null|               122|                8|                7|              75|\n",
       "|    max|31/12/2017| 9:59 AM|               130|               10|               10|             816|\n",
       "+-------+----------+--------+------------------+-----------------+-----------------+----------------+"
      ]
     },
     "execution_count": 5,
     "metadata": {},
     "output_type": "execute_result"
    }
   ],
   "source": [
    "customers.printSchema()\n",
    "customers.show(5)\n",
    "customers.dtypes\n",
    "customers.summary()"
   ]
  },
  {
   "cell_type": "markdown",
   "metadata": {
    "id": "yVWnKRx16ECv"
   },
   "source": [
    "#  Selección y expresiones"
   ]
  },
  {
   "cell_type": "code",
   "execution_count": 6,
   "metadata": {
    "colab": {
     "base_uri": "https://localhost:8080/"
    },
    "id": "0R6-rd4j-wDe",
    "outputId": "4c2b0840-5b64-4255-bae5-35430e424e9d"
   },
   "outputs": [
    {
     "name": "stdout",
     "output_type": "stream",
     "text": [
      "+--------+-------+\n",
      "|customer|product|\n",
      "+--------+-------+\n",
      "|     100|      1|\n",
      "|     100|      1|\n",
      "|     100|      1|\n",
      "|     100|      2|\n",
      "|     100|      3|\n",
      "|     100|      4|\n",
      "|     100|      5|\n",
      "|     100|      6|\n",
      "|     100|      7|\n",
      "|     100|      8|\n",
      "+--------+-------+\n",
      "only showing top 10 rows\n",
      "\n"
     ]
    }
   ],
   "source": [
    "from pyspark.sql.functions import expr, desc, asc\n",
    "customers.select(\"customer\", \"product\").show(10)"
   ]
  },
  {
   "cell_type": "code",
   "execution_count": 7,
   "metadata": {
    "colab": {
     "base_uri": "https://localhost:8080/"
    },
    "id": "bGDoj-Yz--iI",
    "outputId": "af5fde7e-dc03-4912-eeea-1abdab6d508a"
   },
   "outputs": [
    {
     "name": "stdout",
     "output_type": "stream",
     "text": [
      "+--------+-------+---+\n",
      "|customer|product|  q|\n",
      "+--------+-------+---+\n",
      "|     100|      1| 10|\n",
      "|     100|      1| 10|\n",
      "|     100|      1| 10|\n",
      "|     100|      2|  8|\n",
      "|     100|      3|  1|\n",
      "|     100|      4|  3|\n",
      "|     100|      5|  8|\n",
      "|     100|      6|  8|\n",
      "|     100|      7|  4|\n",
      "|     100|      8|  5|\n",
      "|     100|      9|  9|\n",
      "|     100|     10|  9|\n",
      "|     100|      1|  3|\n",
      "|     100|      2|  6|\n",
      "|     100|      3|  1|\n",
      "|     100|      4|  7|\n",
      "|     100|      5|  3|\n",
      "|     100|      6|  5|\n",
      "|     100|      7|  7|\n",
      "|     100|      8|  0|\n",
      "+--------+-------+---+\n",
      "only showing top 20 rows\n",
      "\n"
     ]
    }
   ],
   "source": [
    "customers.select(expr(\"customer\"),\n",
    "expr(\"product\"),\n",
    "expr(\"quantity as q\")).show()"
   ]
  },
  {
   "cell_type": "code",
   "execution_count": 8,
   "metadata": {
    "colab": {
     "base_uri": "https://localhost:8080/"
    },
    "id": "Vjxy7Z-v_ITa",
    "outputId": "e7aeaa53-d12a-45f0-f393-5ec7df302917"
   },
   "outputs": [
    {
     "name": "stdout",
     "output_type": "stream",
     "text": [
      "+-------+--------+\n",
      "|product|quantity|\n",
      "+-------+--------+\n",
      "|      1|      10|\n",
      "|      1|      10|\n",
      "|      1|      10|\n",
      "|      2|       8|\n",
      "|      3|       1|\n",
      "|      4|       3|\n",
      "|      5|       8|\n",
      "|      6|       8|\n",
      "|      7|       4|\n",
      "|      8|       5|\n",
      "|      9|       9|\n",
      "|     10|       9|\n",
      "|      1|       3|\n",
      "|      2|       6|\n",
      "|      3|       1|\n",
      "|      4|       7|\n",
      "|      5|       3|\n",
      "|      6|       5|\n",
      "|      7|       7|\n",
      "|      8|       0|\n",
      "+-------+--------+\n",
      "only showing top 20 rows\n",
      "\n"
     ]
    }
   ],
   "source": [
    "customers.select(\"product\", \"quantity\").show()"
   ]
  },
  {
   "cell_type": "code",
   "execution_count": 9,
   "metadata": {
    "colab": {
     "base_uri": "https://localhost:8080/"
    },
    "id": "n-rthhaO_UAt",
    "outputId": "493388ba-b494-43a1-a75b-3cc19215cc91"
   },
   "outputs": [
    {
     "name": "stdout",
     "output_type": "stream",
     "text": [
      "+----------+--------+--------+-------+--------+-----+\n",
      "|      date|    time|customer|product|quantity|price|\n",
      "+----------+--------+--------+-------+--------+-----+\n",
      "|05/10/2018| 2:20 PM|     100|      1|      10|  816|\n",
      "|06/10/2018| 3:30 PM|     100|      1|      10|    1|\n",
      "|07/10/2018| 5:20 PM|     100|      1|      10|   10|\n",
      "|04/08/2018|11:38 PM|     100|      2|       8|   79|\n",
      "|25/03/2018| 3:52 AM|     100|      3|       1|   91|\n",
      "|24/07/2018|11:37 AM|     100|      4|       3|   59|\n",
      "|10/01/2018| 9:17 PM|     100|      5|       8|   74|\n",
      "|04/10/2018| 5:05 PM|     100|      6|       8|   33|\n",
      "|10/06/2018| 8:39 PM|     100|      7|       4|   45|\n",
      "|25/12/2017|10:10 AM|     100|      8|       5|   33|\n",
      "|21/05/2018| 6:39 PM|     100|      9|       9|    8|\n",
      "|08/04/2018| 5:02 AM|     100|     10|       9|   98|\n",
      "|13/04/2018|11:55 AM|     100|      1|       3|   55|\n",
      "|19/06/2018| 1:38 PM|     100|      2|       6|   45|\n",
      "|02/07/2018| 4:30 AM|     100|      3|       1|   54|\n",
      "|21/10/2018| 2:49 PM|     100|      4|       7|   79|\n",
      "|11/08/2018| 1:48 PM|     100|      5|       3|   24|\n",
      "|11/05/2018| 3:46 AM|     100|      6|       5|   40|\n",
      "|29/08/2018|11:41 PM|     100|      7|       7|   15|\n",
      "|21/05/2018| 6:16 PM|     100|      8|       0|   92|\n",
      "+----------+--------+--------+-------+--------+-----+\n",
      "only showing top 20 rows\n",
      "\n"
     ]
    }
   ],
   "source": [
    "customers.select(expr(\"*\")).show()"
   ]
  },
  {
   "cell_type": "code",
   "execution_count": 10,
   "metadata": {
    "colab": {
     "base_uri": "https://localhost:8080/"
    },
    "id": "raWKTZDy_d5H",
    "outputId": "32223839-d3fc-4d6b-8d1a-6e91d7ce9c66"
   },
   "outputs": [
    {
     "name": "stdout",
     "output_type": "stream",
     "text": [
      "+--------------+\n",
      "|(quantity > 1)|\n",
      "+--------------+\n",
      "|          true|\n",
      "|          true|\n",
      "|          true|\n",
      "|          true|\n",
      "|         false|\n",
      "+--------------+\n",
      "only showing top 5 rows\n",
      "\n"
     ]
    }
   ],
   "source": [
    "customers.select(expr(\"quantity > 1\")).show(5)"
   ]
  },
  {
   "cell_type": "code",
   "execution_count": 11,
   "metadata": {
    "colab": {
     "base_uri": "https://localhost:8080/"
    },
    "id": "57251Kkw_rR3",
    "outputId": "f920a6a3-9fcd-4835-ce83-fdabba2176c4"
   },
   "outputs": [
    {
     "name": "stdout",
     "output_type": "stream",
     "text": [
      "+-------+--------------+\n",
      "|product|(quantity > 1)|\n",
      "+-------+--------------+\n",
      "|      1|          true|\n",
      "|      1|          true|\n",
      "|      1|          true|\n",
      "|      2|          true|\n",
      "|      3|         false|\n",
      "+-------+--------------+\n",
      "only showing top 5 rows\n",
      "\n"
     ]
    }
   ],
   "source": [
    "customers.select(expr(\"product\"), expr(\"quantity > 1\")).show(5)"
   ]
  },
  {
   "cell_type": "code",
   "execution_count": 12,
   "metadata": {
    "colab": {
     "base_uri": "https://localhost:8080/"
    },
    "id": "eaK5L9Fd_xw7",
    "outputId": "d52b6262-1ce3-4a6c-9aac-d43a1217204b"
   },
   "outputs": [
    {
     "name": "stdout",
     "output_type": "stream",
     "text": [
      "+----------+--------+--------+-------+--------+-----+--------------+\n",
      "|      date|    time|customer|product|quantity|price|(quantity > 1)|\n",
      "+----------+--------+--------+-------+--------+-----+--------------+\n",
      "|05/10/2018| 2:20 PM|     100|      1|      10|  816|          true|\n",
      "|06/10/2018| 3:30 PM|     100|      1|      10|    1|          true|\n",
      "|07/10/2018| 5:20 PM|     100|      1|      10|   10|          true|\n",
      "|04/08/2018|11:38 PM|     100|      2|       8|   79|          true|\n",
      "|25/03/2018| 3:52 AM|     100|      3|       1|   91|         false|\n",
      "+----------+--------+--------+-------+--------+-----+--------------+\n",
      "only showing top 5 rows\n",
      "\n"
     ]
    }
   ],
   "source": [
    "customers.select(expr(\"*\"), expr(\"quantity >1\")).show(5)"
   ]
  },
  {
   "cell_type": "code",
   "execution_count": 13,
   "metadata": {
    "colab": {
     "base_uri": "https://localhost:8080/"
    },
    "id": "LeouldkJ_x9Y",
    "outputId": "4ef1eddf-a501-4e82-ee4d-df48be1776b0"
   },
   "outputs": [
    {
     "name": "stdout",
     "output_type": "stream",
     "text": [
      "+----------+--------+--------+-------+--------+-----+----------------+------------+\n",
      "|      date|    time|customer|product|quantity|price|(customer = 100)|(price > 10)|\n",
      "+----------+--------+--------+-------+--------+-----+----------------+------------+\n",
      "|05/10/2018| 2:20 PM|     100|      1|      10|  816|            true|        true|\n",
      "|06/10/2018| 3:30 PM|     100|      1|      10|    1|            true|       false|\n",
      "|07/10/2018| 5:20 PM|     100|      1|      10|   10|            true|       false|\n",
      "|04/08/2018|11:38 PM|     100|      2|       8|   79|            true|        true|\n",
      "|25/03/2018| 3:52 AM|     100|      3|       1|   91|            true|        true|\n",
      "+----------+--------+--------+-------+--------+-----+----------------+------------+\n",
      "only showing top 5 rows\n",
      "\n"
     ]
    }
   ],
   "source": [
    "customers.selectExpr(\"*\", \"customer = 100\", \"price > 10\").show(5)"
   ]
  },
  {
   "cell_type": "markdown",
   "metadata": {
    "id": "IadIAZux6PMg"
   },
   "source": [
    "# Agrupaciones"
   ]
  },
  {
   "cell_type": "code",
   "execution_count": 14,
   "metadata": {
    "colab": {
     "base_uri": "https://localhost:8080/"
    },
    "id": "IVcbFLYiAyRp",
    "outputId": "41e97e7e-b94e-471f-9c96-32393e1be145"
   },
   "outputs": [
    {
     "name": "stdout",
     "output_type": "stream",
     "text": [
      "+-------+-------------+\n",
      "|product|sum(quantity)|\n",
      "+-------+-------------+\n",
      "|      1|          444|\n",
      "|      6|          437|\n",
      "|      3|          481|\n",
      "|      5|          469|\n",
      "|      9|          431|\n",
      "|      4|          431|\n",
      "|      8|          483|\n",
      "|      7|          430|\n",
      "|     10|          453|\n",
      "|      2|          431|\n",
      "+-------+-------------+\n",
      "\n"
     ]
    }
   ],
   "source": [
    "customers.groupBy(\"product\").agg({\"quantity\": \"sum\"}).show()"
   ]
  },
  {
   "cell_type": "code",
   "execution_count": 15,
   "metadata": {
    "colab": {
     "base_uri": "https://localhost:8080/"
    },
    "id": "bG_FETeNBFcj",
    "outputId": "d4e7669f-c165-442c-af55-27f63c35f396"
   },
   "outputs": [
    {
     "name": "stdout",
     "output_type": "stream",
     "text": [
      "+----------+\n",
      "|sum(price)|\n",
      "+----------+\n",
      "|     51052|\n",
      "+----------+\n",
      "\n"
     ]
    }
   ],
   "source": [
    "customers.selectExpr(\"sum(price)\").show()"
   ]
  },
  {
   "cell_type": "code",
   "execution_count": 16,
   "metadata": {
    "colab": {
     "base_uri": "https://localhost:8080/"
    },
    "id": "GR4Rf9cDwOy0",
    "outputId": "4b59ebff-fb5f-43ae-c1ae-890ab9999fb5"
   },
   "outputs": [
    {
     "name": "stdout",
     "output_type": "stream",
     "text": [
      "+----------------+\n",
      "|      avg(price)|\n",
      "+----------------+\n",
      "|50.9500998003992|\n",
      "+----------------+\n",
      "\n"
     ]
    }
   ],
   "source": [
    "customers.selectExpr(\"avg(price)\").show()"
   ]
  },
  {
   "cell_type": "code",
   "execution_count": 17,
   "metadata": {
    "colab": {
     "base_uri": "https://localhost:8080/"
    },
    "id": "MlB3mYnJweXJ",
    "outputId": "833447f5-e1eb-4326-cf3c-73155ff549cf"
   },
   "outputs": [
    {
     "name": "stdout",
     "output_type": "stream",
     "text": [
      "+---------------+\n",
      "|count(customer)|\n",
      "+---------------+\n",
      "|           1002|\n",
      "+---------------+\n",
      "\n",
      "+------------------------+\n",
      "|count(DISTINCT customer)|\n",
      "+------------------------+\n",
      "|                      31|\n",
      "+------------------------+\n",
      "\n"
     ]
    }
   ],
   "source": [
    "customers.selectExpr(\"count(customer)\").show()\n",
    "customers.selectExpr(\"count(distinct(customer))\").show()"
   ]
  },
  {
   "cell_type": "code",
   "execution_count": 18,
   "metadata": {
    "colab": {
     "base_uri": "https://localhost:8080/"
    },
    "id": "TWz4346Tx3Cj",
    "outputId": "d3b0326b-c8b2-4f8c-fa93-905ac2b3ee28"
   },
   "outputs": [
    {
     "name": "stdout",
     "output_type": "stream",
     "text": [
      "+----------------+---------------+\n",
      "|      avg(price)|count(customer)|\n",
      "+----------------+---------------+\n",
      "|50.9500998003992|           1002|\n",
      "+----------------+---------------+\n",
      "\n"
     ]
    }
   ],
   "source": [
    "customers.selectExpr(\"avg(price)\", \"count(customer)\").show()"
   ]
  },
  {
   "cell_type": "markdown",
   "metadata": {
    "id": "FmaXUuZC6WHg"
   },
   "source": [
    "# Filtros"
   ]
  },
  {
   "cell_type": "code",
   "execution_count": 19,
   "metadata": {
    "colab": {
     "base_uri": "https://localhost:8080/"
    },
    "id": "Xlc_WTV5x66x",
    "outputId": "4a1eb997-179a-4ee0-86bb-e5cc3fd77002"
   },
   "outputs": [
    {
     "name": "stdout",
     "output_type": "stream",
     "text": [
      "+----------+--------+--------+-------+--------+-----+\n",
      "|      date|    time|customer|product|quantity|price|\n",
      "+----------+--------+--------+-------+--------+-----+\n",
      "|04/08/2018|11:38 PM|     100|      2|       8|   79|\n",
      "|25/03/2018| 3:52 AM|     100|      3|       1|   91|\n",
      "|24/07/2018|11:37 AM|     100|      4|       3|   59|\n",
      "|10/01/2018| 9:17 PM|     100|      5|       8|   74|\n",
      "|04/10/2018| 5:05 PM|     100|      6|       8|   33|\n",
      "+----------+--------+--------+-------+--------+-----+\n",
      "only showing top 5 rows\n",
      "\n",
      "+----------+--------+--------+-------+--------+-----+\n",
      "|      date|    time|customer|product|quantity|price|\n",
      "+----------+--------+--------+-------+--------+-----+\n",
      "|13/06/2018| 3:02 PM|     101|      4|       8|   63|\n",
      "|06/07/2018|10:35 AM|     101|      5|       8|   42|\n",
      "|13/04/2018| 2:24 AM|     101|      6|       6|   73|\n",
      "|21/12/2017| 3:09 AM|     101|      7|       6|    8|\n",
      "|02/07/2018| 6:23 PM|     101|      8|       9|   74|\n",
      "+----------+--------+--------+-------+--------+-----+\n",
      "only showing top 5 rows\n",
      "\n",
      "+----------+--------+--------+-------+--------+-----+\n",
      "|      date|    time|customer|product|quantity|price|\n",
      "+----------+--------+--------+-------+--------+-----+\n",
      "|13/06/2018| 3:02 PM|     101|      4|       8|   63|\n",
      "|06/07/2018|10:35 AM|     101|      5|       8|   42|\n",
      "|13/04/2018| 2:24 AM|     101|      6|       6|   73|\n",
      "|21/12/2017| 3:09 AM|     101|      7|       6|    8|\n",
      "|08/08/2018| 9:16 AM|     101|      9|       0|    4|\n",
      "+----------+--------+--------+-------+--------+-----+\n",
      "only showing top 5 rows\n",
      "\n"
     ]
    }
   ],
   "source": [
    "customers.where(expr(\"quantity < 9\")).show(5)\n",
    "customers.where(expr(\"customer != 100\")).show(5)\n",
    "customers.where(expr(\"quantity < 9\")).where(expr(\"customer != 100\")).show(5)"
   ]
  },
  {
   "cell_type": "code",
   "execution_count": 20,
   "metadata": {
    "colab": {
     "base_uri": "https://localhost:8080/"
    },
    "id": "wnxvgI4BzC9Q",
    "outputId": "7b355bdd-34c8-49f7-c14f-5cbc96c02f87"
   },
   "outputs": [
    {
     "name": "stdout",
     "output_type": "stream",
     "text": [
      "+--------+\n",
      "|customer|\n",
      "+--------+\n",
      "|     100|\n",
      "|     101|\n",
      "|     101|\n",
      "|     102|\n",
      "|     102|\n",
      "+--------+\n",
      "only showing top 5 rows\n",
      "\n"
     ]
    }
   ],
   "source": [
    "customers.selectExpr(\"customer\").where(expr(\"product = 8\")).where(expr(\"quantity > 7\")).show(5)"
   ]
  },
  {
   "cell_type": "markdown",
   "metadata": {
    "id": "OVgvYOU46awf"
   },
   "source": [
    "# Ordenación"
   ]
  },
  {
   "cell_type": "code",
   "execution_count": 21,
   "metadata": {
    "colab": {
     "base_uri": "https://localhost:8080/"
    },
    "id": "dPD7_8Aqz0sD",
    "outputId": "e2918bd2-7857-46da-90dc-30b7415c0624"
   },
   "outputs": [
    {
     "name": "stdout",
     "output_type": "stream",
     "text": [
      "+----------+--------+--------+-------+--------+-----+\n",
      "|      date|    time|customer|product|quantity|price|\n",
      "+----------+--------+--------+-------+--------+-----+\n",
      "|23/06/2018|12:49 AM|     110|      8|       8|    0|\n",
      "|22/08/2018| 3:38 PM|     124|      5|       4|    0|\n",
      "|07/07/2018| 6:23 PM|     112|      6|       4|    0|\n",
      "|16/03/2018|12:21 PM|     107|      3|       7|    0|\n",
      "|03/12/2017| 2:38 PM|     113|      9|       3|    0|\n",
      "+----------+--------+--------+-------+--------+-----+\n",
      "only showing top 5 rows\n",
      "\n",
      "+----------+--------+--------+-------+--------+-----+\n",
      "|      date|    time|customer|product|quantity|price|\n",
      "+----------+--------+--------+-------+--------+-----+\n",
      "|16/08/2018|12:03 PM|     130|      1|       1|    8|\n",
      "|19/09/2018| 6:31 PM|     130|      5|       7|   14|\n",
      "|25/09/2018| 9:02 PM|     130|      4|       0|   29|\n",
      "|23/05/2018| 2:04 PM|     130|      8|       9|   55|\n",
      "|29/03/2018| 6:13 AM|     130|      3|       6|   69|\n",
      "+----------+--------+--------+-------+--------+-----+\n",
      "only showing top 5 rows\n",
      "\n",
      "+----------+--------+--------+-------+--------+-----+\n",
      "|      date|    time|customer|product|quantity|price|\n",
      "+----------+--------+--------+-------+--------+-----+\n",
      "|22/05/2018| 2:14 PM|     130|      9|       6|   86|\n",
      "|23/04/2018|12:10 AM|     130|      6|       1|   81|\n",
      "|18/10/2018| 1:24 AM|     130|     10|       8|   75|\n",
      "|29/03/2018| 6:13 AM|     130|      3|       6|   69|\n",
      "|23/05/2018| 2:04 PM|     130|      8|       9|   55|\n",
      "+----------+--------+--------+-------+--------+-----+\n",
      "only showing top 5 rows\n",
      "\n"
     ]
    }
   ],
   "source": [
    "customers.orderBy(\"price\").show(5)\n",
    "\n",
    "from pyspark.sql.functions import expr, desc, asc\n",
    "customers.orderBy(desc(\"customer\"), asc(\"price\")).show(5)\n",
    "customers.where(expr(\"date > '16/09/2018'\")).orderBy(desc(\"customer\"), desc(\"price\")).show(5)"
   ]
  },
  {
   "cell_type": "code",
   "execution_count": 22,
   "metadata": {
    "colab": {
     "base_uri": "https://localhost:8080/"
    },
    "id": "jlyyOQbs0j4f",
    "outputId": "c6cba624-8569-44a6-8d9b-dbc78adf4a28"
   },
   "outputs": [
    {
     "name": "stdout",
     "output_type": "stream",
     "text": [
      "+--------+-----+\n",
      "|customer|count|\n",
      "+--------+-----+\n",
      "|     108|   33|\n",
      "|     101|   33|\n",
      "|     115|   33|\n",
      "+--------+-----+\n",
      "only showing top 3 rows\n",
      "\n"
     ]
    }
   ],
   "source": [
    "customers.groupBy(\"customer\").count().show(3)"
   ]
  },
  {
   "cell_type": "code",
   "execution_count": 23,
   "metadata": {
    "colab": {
     "base_uri": "https://localhost:8080/"
    },
    "id": "D6XdfR0b05uV",
    "outputId": "1a64c943-8b90-40fc-852e-402451c14661"
   },
   "outputs": [
    {
     "name": "stdout",
     "output_type": "stream",
     "text": [
      "+--------+-------------+\n",
      "|customer|sum(quantity)|\n",
      "+--------+-------------+\n",
      "|     108|          129|\n",
      "|     101|          196|\n",
      "|     115|          143|\n",
      "+--------+-------------+\n",
      "only showing top 3 rows\n",
      "\n",
      "+--------+-------------+-----------------+------------------+------------------+\n",
      "|customer|avg(customer)|     avg(product)|     avg(quantity)|        avg(price)|\n",
      "+--------+-------------+-----------------+------------------+------------------+\n",
      "|     108|        108.0|5.545454545454546| 3.909090909090909| 49.93939393939394|\n",
      "|     101|        101.0|5.454545454545454|5.9393939393939394| 49.27272727272727|\n",
      "|     115|        115.0|5.636363636363637| 4.333333333333333|49.666666666666664|\n",
      "+--------+-------------+-----------------+------------------+------------------+\n",
      "only showing top 3 rows\n",
      "\n"
     ]
    }
   ],
   "source": [
    "customers.groupBy(\"customer\").agg(expr(\"sum(quantity)\")).show(3)\n",
    "customers.groupBy(\"customer\").avg().show(3)"
   ]
  },
  {
   "cell_type": "code",
   "execution_count": 24,
   "metadata": {
    "colab": {
     "base_uri": "https://localhost:8080/"
    },
    "id": "-0fFVJyk1fVv",
    "outputId": "68e6f888-63bc-4dde-d746-427e48869079"
   },
   "outputs": [
    {
     "name": "stdout",
     "output_type": "stream",
     "text": [
      "+--------+------------------+--------------------+\n",
      "|customer|     avg(quantity)|stddev_pop(quantity)|\n",
      "+--------+------------------+--------------------+\n",
      "|     108| 3.909090909090909|    2.83232035043586|\n",
      "|     101|5.9393939393939394|  2.8170411507132362|\n",
      "|     115| 4.333333333333333|  3.1107503398324456|\n",
      "+--------+------------------+--------------------+\n",
      "only showing top 3 rows\n",
      "\n",
      "+--------+------------------+----------+\n",
      "|customer|     avg(quantity)|max(price)|\n",
      "+--------+------------------+----------+\n",
      "|     108| 3.909090909090909|        99|\n",
      "|     101|5.9393939393939394|        93|\n",
      "|     115| 4.333333333333333|        98|\n",
      "+--------+------------------+----------+\n",
      "only showing top 3 rows\n",
      "\n"
     ]
    }
   ],
   "source": [
    "customers.groupBy(\"customer\").agg(expr(\"avg(quantity)\"),expr(\"stddev_pop(quantity)\")).show(3)\n",
    "customers.groupBy(\"customer\").agg(expr(\"avg(quantity)\"),expr(\"max(price)\")).show(3)"
   ]
  },
  {
   "cell_type": "markdown",
   "metadata": {
    "id": "5IrdGk4S6lV4"
   },
   "source": [
    "# Unión"
   ]
  },
  {
   "cell_type": "code",
   "execution_count": 25,
   "metadata": {
    "colab": {
     "base_uri": "https://localhost:8080/"
    },
    "id": "RnA-SM6b1tsO",
    "outputId": "9911f054-8539-4a40-a1eb-017667abe0c0"
   },
   "outputs": [
    {
     "name": "stdout",
     "output_type": "stream",
     "text": [
      "root\n",
      " |-- ID: integer (nullable = true)\n",
      " |-- NAME: string (nullable = true)\n",
      " |-- COLOR: string (nullable = true)\n",
      "\n",
      "root\n",
      " |-- ID: integer (nullable = true)\n",
      " |-- PRICE: integer (nullable = true)\n",
      " |-- STOCKNUM: integer (nullable = true)\n",
      "\n",
      "root\n",
      " |-- ID: integer (nullable = true)\n",
      " |-- NAME: string (nullable = true)\n",
      " |-- COLOR: string (nullable = true)\n",
      " |-- ID: integer (nullable = true)\n",
      " |-- PRICE: integer (nullable = true)\n",
      " |-- STOCKNUM: integer (nullable = true)\n",
      "\n",
      "+----+-----+-----+----+-----+--------+\n",
      "|  ID| NAME|COLOR|  ID|PRICE|STOCKNUM|\n",
      "+----+-----+-----+----+-----+--------+\n",
      "|1234|chair| blue|1234|  125|    1000|\n",
      "|   1|table|black|   1|  816|     100|\n",
      "|   2|  jar|white|   2|   46|       1|\n",
      "|   3|  pan|  red|   3|   54|      22|\n",
      "+----+-----+-----+----+-----+--------+\n",
      "\n"
     ]
    }
   ],
   "source": [
    "products.printSchema()\n",
    "stock.printSchema()\n",
    "joined = products.join(stock, products.ID == stock.ID, \"inner\")\n",
    "joined.printSchema()\n",
    "joined.show(5)"
   ]
  },
  {
   "cell_type": "markdown",
   "metadata": {
    "id": "uaWwNCxv6ok2"
   },
   "source": [
    "Preguntas sobre customers:\n",
    "\n",
    "1. ¿Cuántos elementos podemos encontrar (en nuestro DataFrame)?\n",
    "2. ¿Cuántos clientes únicos?\n",
    "3. ¿Cuántos productos compró cada cliente?\n",
    "4. Clasificar clientes por cantidad\n",
    "5. ¿Cuántas veces el cliente número 100 ha comprado más de 5 artículos?\n",
    "6. ¿Cuáles fueron los productos comprados por el cliente con mayor número de transacciones? Nos interesa el cliente que ha realizado más compras. No es necesario considerar cantidades de productos, sólo cuántas veces un cliente ha realizado una transacción.\n"
   ]
  }
 ],
 "metadata": {
  "colab": {
   "provenance": []
  },
  "kernelspec": {
   "display_name": "Python 3 (ipykernel)",
   "language": "python",
   "name": "python3"
  },
  "language_info": {
   "codemirror_mode": {
    "name": "ipython",
    "version": 3
   },
   "file_extension": ".py",
   "mimetype": "text/x-python",
   "name": "python",
   "nbconvert_exporter": "python",
   "pygments_lexer": "ipython3",
   "version": "3.12.3"
  }
 },
 "nbformat": 4,
 "nbformat_minor": 4
}
