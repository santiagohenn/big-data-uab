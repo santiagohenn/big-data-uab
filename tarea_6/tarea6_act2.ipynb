{
 "cells": [
  {
   "cell_type": "markdown",
   "id": "7c8580e0",
   "metadata": {},
   "source": [
    "### Instalamos plotly, que usaremos para graficar"
   ]
  },
  {
   "cell_type": "code",
   "execution_count": 2,
   "id": "5b8b8593",
   "metadata": {},
   "outputs": [
    {
     "name": "stdout",
     "output_type": "stream",
     "text": [
      "Collecting plotly\n",
      "  Downloading plotly-6.2.0-py3-none-any.whl.metadata (8.5 kB)\n",
      "Collecting narwhals>=1.15.1 (from plotly)\n",
      "  Downloading narwhals-2.0.0-py3-none-any.whl.metadata (11 kB)\n",
      "Requirement already satisfied: packaging in /usr/local/lib/python3.9/dist-packages (from plotly) (25.0)\n",
      "Downloading plotly-6.2.0-py3-none-any.whl (9.6 MB)\n",
      "\u001b[2K   \u001b[90m━━━━━━━━━━━━━━━━━━━━━━━━━━━━━━━━━━━━━━━━\u001b[0m \u001b[32m9.6/9.6 MB\u001b[0m \u001b[31m69.9 MB/s\u001b[0m eta \u001b[36m0:00:00\u001b[0m\n",
      "\u001b[?25hDownloading narwhals-2.0.0-py3-none-any.whl (385 kB)\n",
      "Installing collected packages: narwhals, plotly\n",
      "\u001b[2K   \u001b[90m━━━━━━━━━━━━━━━━━━━━━━━━━━━━━━━━━━━━━━━━\u001b[0m \u001b[32m2/2\u001b[0m [plotly]2m1/2\u001b[0m [plotly]\n",
      "\u001b[1A\u001b[2KSuccessfully installed narwhals-2.0.0 plotly-6.2.0\n",
      "\u001b[33mWARNING: Running pip as the 'root' user can result in broken permissions and conflicting behaviour with the system package manager, possibly rendering your system unusable. It is recommended to use a virtual environment instead: https://pip.pypa.io/warnings/venv. Use the --root-user-action option if you know what you are doing and want to suppress this warning.\u001b[0m\u001b[33m\n",
      "\u001b[0mNote: you may need to restart the kernel to use updated packages.\n"
     ]
    }
   ],
   "source": [
    "pip install plotly"
   ]
  },
  {
   "cell_type": "code",
   "execution_count": 21,
   "id": "76f7d45a",
   "metadata": {},
   "outputs": [
    {
     "name": "stdout",
     "output_type": "stream",
     "text": [
      "Collecting pandas\n",
      "  Downloading pandas-2.3.1-cp39-cp39-manylinux_2_17_x86_64.manylinux2014_x86_64.whl.metadata (91 kB)\n",
      "Collecting numpy>=1.22.4 (from pandas)\n",
      "  Downloading numpy-2.0.2-cp39-cp39-manylinux_2_17_x86_64.manylinux2014_x86_64.whl.metadata (60 kB)\n",
      "Requirement already satisfied: python-dateutil>=2.8.2 in /usr/local/lib/python3.9/dist-packages (from pandas) (2.9.0.post0)\n",
      "Collecting pytz>=2020.1 (from pandas)\n",
      "  Downloading pytz-2025.2-py2.py3-none-any.whl.metadata (22 kB)\n",
      "Collecting tzdata>=2022.7 (from pandas)\n",
      "  Downloading tzdata-2025.2-py2.py3-none-any.whl.metadata (1.4 kB)\n",
      "Requirement already satisfied: six>=1.5 in /usr/local/lib/python3.9/dist-packages (from python-dateutil>=2.8.2->pandas) (1.17.0)\n",
      "Downloading pandas-2.3.1-cp39-cp39-manylinux_2_17_x86_64.manylinux2014_x86_64.whl (12.4 MB)\n",
      "\u001b[2K   \u001b[90m━━━━━━━━━━━━━━━━━━━━━━━━━━━━━━━━━━━━━━━━\u001b[0m \u001b[32m12.4/12.4 MB\u001b[0m \u001b[31m81.6 MB/s\u001b[0m eta \u001b[36m0:00:00\u001b[0m\n",
      "\u001b[?25hDownloading numpy-2.0.2-cp39-cp39-manylinux_2_17_x86_64.manylinux2014_x86_64.whl (19.5 MB)\n",
      "\u001b[2K   \u001b[90m━━━━━━━━━━━━━━━━━━━━━━━━━━━━━━━━━━━━━━━━\u001b[0m \u001b[32m19.5/19.5 MB\u001b[0m \u001b[31m86.4 MB/s\u001b[0m eta \u001b[36m0:00:00\u001b[0m:00:01\u001b[0m\n",
      "\u001b[?25hDownloading pytz-2025.2-py2.py3-none-any.whl (509 kB)\n",
      "Downloading tzdata-2025.2-py2.py3-none-any.whl (347 kB)\n",
      "Installing collected packages: pytz, tzdata, numpy, pandas\n",
      "\u001b[2K   \u001b[90m━━━━━━━━━━━━━━━━━━━━━━━━━━━━━━━━━━━━━━━━\u001b[0m \u001b[32m4/4\u001b[0m [pandas]2m3/4\u001b[0m [pandas]\n",
      "\u001b[1A\u001b[2KSuccessfully installed numpy-2.0.2 pandas-2.3.1 pytz-2025.2 tzdata-2025.2\n",
      "\u001b[33mWARNING: Running pip as the 'root' user can result in broken permissions and conflicting behaviour with the system package manager, possibly rendering your system unusable. It is recommended to use a virtual environment instead: https://pip.pypa.io/warnings/venv. Use the --root-user-action option if you know what you are doing and want to suppress this warning.\u001b[0m\u001b[33m\n",
      "\u001b[0mNote: you may need to restart the kernel to use updated packages.\n"
     ]
    }
   ],
   "source": [
    "pip install pandas"
   ]
  },
  {
   "cell_type": "markdown",
   "id": "34da54d9",
   "metadata": {},
   "source": [
    "### Importamos las librerias que usaremos e iniciamos la sesion de spark"
   ]
  },
  {
   "cell_type": "code",
   "execution_count": 3,
   "id": "f51407ad",
   "metadata": {},
   "outputs": [
    {
     "name": "stdout",
     "output_type": "stream",
     "text": [
      "Estadsticas de recetas utilizando spark-docker\n"
     ]
    },
    {
     "name": "stderr",
     "output_type": "stream",
     "text": [
      "25/07/28 18:54:51 WARN NativeCodeLoader: Unable to load native-hadoop library for your platform... using builtin-java classes where applicable\n",
      "Using Spark's default log4j profile: org/apache/spark/log4j-defaults.properties\n",
      "Setting default log level to \"WARN\".\n",
      "To adjust logging level use sc.setLogLevel(newLevel). For SparkR, use setLogLevel(newLevel).\n"
     ]
    }
   ],
   "source": [
    "from pyspark.sql import SparkSession\n",
    "import plotly.graph_objs as go\n",
    "from plotly.offline import plot\n",
    "\n",
    "print(\"Estadsticas de recetas utilizando spark-docker\")\n",
    "\n",
    "spark = SparkSession.\\\n",
    "        builder.\\\n",
    "        appName(\"pyspark-notebook\").\\\n",
    "        master(\"spark://spark-master:7077\").\\\n",
    "        config(\"spark.executor.memory\", \"512m\").\\\n",
    "        getOrCreate()"
   ]
  },
  {
   "cell_type": "markdown",
   "id": "435533ac",
   "metadata": {},
   "source": [
    "### Leemos el archivo:"
   ]
  },
  {
   "cell_type": "code",
   "execution_count": 4,
   "id": "30a2b534",
   "metadata": {},
   "outputs": [
    {
     "name": "stderr",
     "output_type": "stream",
     "text": [
      "                                                                                \r"
     ]
    }
   ],
   "source": [
    "data = spark.read.csv(path=\"data/recetas_2025.csv\", sep=\",\", header=True)"
   ]
  },
  {
   "cell_type": "markdown",
   "id": "7527f142",
   "metadata": {},
   "source": [
    "### Corroboramos la data structure"
   ]
  },
  {
   "cell_type": "code",
   "execution_count": 5,
   "id": "2639c2de",
   "metadata": {},
   "outputs": [
    {
     "name": "stderr",
     "output_type": "stream",
     "text": [
      "                                                                                \r"
     ]
    },
    {
     "name": "stdout",
     "output_type": "stream",
     "text": [
      "Archivo cargado. 465203 lineas, 18 columnas.\n",
      "+----+---+--------------------------+---------------+-----------+----+--------------------------+--------------------+--------------------------+--------------------+--------------------------+--------------------+--------------------------+--------------------+------------------+----------------+--------------+-------------------------+\n",
      "| any|mes|codi de la regió sanitària|regió sanitària|grup d'edat|sexe|codi del grup ATC nivell 1|   grup ATC nivell 1|codi del grup ATC nivell 2|   grup ATC nivell 2|codi del grup ATC nivell 3|   grup ATC nivell 3|codi del grup ATC nivell 4|   grup ATC nivell 4|nombre de receptes|nombre d'envasos|import íntegre|import aportació CatSalut|\n",
      "+----+---+--------------------------+---------------+-----------+----+--------------------------+--------------------+--------------------------+--------------------+--------------------------+--------------------+--------------------------+--------------------+------------------+----------------+--------------+-------------------------+\n",
      "|2025| 05|                        61|         LLEIDA|    0-1 any|Dona|                         A|TRACTO ALIMENTARI...|                       A01|PREPARADOS ESTOMA...|                      A01A|PREPARADOS ESTOMA...|                     A01AB|Antiinfecciosos y...|                11|              11|         31.13|                    18.96|\n",
      "|2025| 05|                        61|         LLEIDA|    0-1 any|Dona|                         A|TRACTO ALIMENTARI...|                       A02|AGENTES PARA EL T...|                      A02B|AGENTES CONTRA LA...|                     A02BC|Inhibidores de la...|                 2|               2|         35.50|                    28.40|\n",
      "|2025| 05|                        61|         LLEIDA|    0-1 any|Dona|                         A|TRACTO ALIMENTARI...|                       A07|ANTIDIARREICOS, A...|                      A07A|ANTIINFECCIOSOS I...|                     A07AA|        Antibioticos|                 2|               2|          9.36|                     5.62|\n",
      "|2025| 05|                        61|         LLEIDA|    0-1 any|Dona|                         A|TRACTO ALIMENTARI...|                       A07|ANTIDIARREICOS, A...|                      A07C|ELECTROLITOS CON ...|                     A07CA|Formulaciones de ...|                32|              32|        106.58|                    67.32|\n",
      "|2025| 05|                        61|         LLEIDA|    0-1 any|Dona|                         A|TRACTO ALIMENTARI...|                       A11|           VITAMINAS|                      A11C|VITAMINAS A Y D, ...|                     A11CC|Vitamina D y anal...|               292|             292|       1417.57|                   885.89|\n",
      "|2025| 05|                        61|         LLEIDA|    0-1 any|Dona|                         A|TRACTO ALIMENTARI...|                       A11|           VITAMINAS|                      A11H|OTROS PREPARADOS ...|                     A11HA|Otros preparados ...|                 1|               1|          6.98|                     4.19|\n",
      "|2025| 05|                        61|         LLEIDA|    0-1 any|Dona|                         B|SANGRE Y ORGANOS ...|                       B03|PREPARADOS ANTIAN...|                      B03B|VITAMINA B12 Y AC...|                     B03BA|Vitamina B12 (cia...|                 2|               2|          4.56|                     2.74|\n",
      "|2025| 05|                        61|         LLEIDA|    0-1 any|Dona|                         B|SANGRE Y ORGANOS ...|                       B03|PREPARADOS ANTIAN...|                      B03B|VITAMINA B12 Y AC...|                     B03BB|Acido folico y de...|                 1|               1|          2.50|                     2.50|\n",
      "|2025| 05|                        61|         LLEIDA|    0-1 any|Dona|                         B|SANGRE Y ORGANOS ...|                       B05|SUSTITUTOS DE LA ...|                      B05B|     SOLUCIONES I.V.|                     B05BB|Soluciones que af...|                30|              30|         70.88|                    38.92|\n",
      "|2025| 05|                        61|         LLEIDA|    0-1 any|Dona|                         C|SISTEMA CARDIOVAS...|                       C01|    TERAPIA CARDIACA|                      C01C|ESTIMULANTES CARD...|                     C01CA|Agentes adrenergi...|                 1|               1|         90.98|                    45.49|\n",
      "|2025| 05|                        61|         LLEIDA|    0-1 any|Dona|                         C|SISTEMA CARDIOVAS...|                       C07|AGENTES BETA-BLOQ...|                      C07A|AGENTES BETA-BLOQ...|                     C07AA|Agentes beta- blo...|                 5|               5|        502.36|                   488.75|\n",
      "|2025| 05|                        61|         LLEIDA|    0-1 any|Dona|                         C|SISTEMA CARDIOVAS...|                       C07|AGENTES BETA-BLOQ...|                      C07A|AGENTES BETA-BLOQ...|                     C07AG|Agentes bloqueant...|                 1|               1|         18.55|                    16.69|\n",
      "|2025| 05|                        61|         LLEIDA|    0-1 any|Dona|                         C|SISTEMA CARDIOVAS...|                       C09|AGENTES QUE ACTUA...|                      C09A|INHIBIDORES DE LA...|                     C09AA|Inhibidores de la...|                 2|               2|         36.58|                    34.71|\n",
      "|2025| 05|                        61|         LLEIDA|    0-1 any|Dona|                         D|      DERMATOLOGICOS|                       D01|ANTIFUNGICOS PARA...|                      D01A|ANTIFUNGICOS PARA...|                     D01AC|Derivados imidazo...|                29|              29|         94.81|                    57.74|\n",
      "|2025| 05|                        61|         LLEIDA|    0-1 any|Dona|                         D|      DERMATOLOGICOS|                       D01|ANTIFUNGICOS PARA...|                      D01A|ANTIFUNGICOS PARA...|                     D01AE|Otros preparados ...|                 1|               1|          2.51|                     1.51|\n",
      "|2025| 05|                        61|         LLEIDA|    0-1 any|Dona|                         D|      DERMATOLOGICOS|                       D06|ANTIBIOTICOS Y QU...|                      D06A|ANTIBIOTICOS PARA...|                     D06AX|Otros antibiotico...|                19|              19|        120.44|                    71.51|\n",
      "|2025| 05|                        61|         LLEIDA|    0-1 any|Dona|                         D|      DERMATOLOGICOS|                       D06|ANTIBIOTICOS Y QU...|                      D06B|QUIMIOTERAPICOS P...|                     D06BA|        Sulfonamidas|                 1|               1|         10.54|                    10.54|\n",
      "|2025| 05|                        61|         LLEIDA|    0-1 any|Dona|                         D|      DERMATOLOGICOS|                       D07|PREPARADOS DERMAT...|                      D07A|CORTICOSTEROIDES,...|                     D07AA|Corticosteroides ...|                28|              28|         92.68|                    57.94|\n",
      "|2025| 05|                        61|         LLEIDA|    0-1 any|Dona|                         D|      DERMATOLOGICOS|                       D07|PREPARADOS DERMAT...|                      D07A|CORTICOSTEROIDES,...|                     D07AC|Corticosteroides ...|                22|              22|        143.01|                    89.33|\n",
      "|2025| 05|                        61|         LLEIDA|    0-1 any|Dona|                         D|      DERMATOLOGICOS|                       D11|OTROS PREPARADOS ...|                      D11A|OTROS PREPARADOS ...|                     D11AH|Agentes de la der...|                 3|               3|        170.95|                    92.31|\n",
      "+----+---+--------------------------+---------------+-----------+----+--------------------------+--------------------+--------------------------+--------------------+--------------------------+--------------------+--------------------------+--------------------+------------------+----------------+--------------+-------------------------+\n",
      "only showing top 20 rows\n",
      "\n"
     ]
    }
   ],
   "source": [
    "print(\"Archivo cargado.\", data.count(), \"lineas,\",len(data.columns),\"columnas.\")\n",
    "data.show(20)"
   ]
  },
  {
   "cell_type": "markdown",
   "id": "77b752b4",
   "metadata": {},
   "source": [
    "### Seleccionamos un subset de los datos"
   ]
  },
  {
   "cell_type": "code",
   "execution_count": 7,
   "id": "5de6dbc9",
   "metadata": {},
   "outputs": [
    {
     "name": "stdout",
     "output_type": "stream",
     "text": [
      "+---------------+----+--------------------------+------------------+\n",
      "|regió sanitària|sexe|codi del grup ATC nivell 3|nombre de receptes|\n",
      "+---------------+----+--------------------------+------------------+\n",
      "|         LLEIDA|Dona|                      A01A|                11|\n",
      "|         LLEIDA|Dona|                      A02B|                 2|\n",
      "|         LLEIDA|Dona|                      A07A|                 2|\n",
      "|         LLEIDA|Dona|                      A07C|                32|\n",
      "|         LLEIDA|Dona|                      A11C|               292|\n",
      "|         LLEIDA|Dona|                      A11H|                 1|\n",
      "|         LLEIDA|Dona|                      B03B|                 2|\n",
      "|         LLEIDA|Dona|                      B03B|                 1|\n",
      "|         LLEIDA|Dona|                      B05B|                30|\n",
      "|         LLEIDA|Dona|                      C01C|                 1|\n",
      "|         LLEIDA|Dona|                      C07A|                 5|\n",
      "|         LLEIDA|Dona|                      C07A|                 1|\n",
      "|         LLEIDA|Dona|                      C09A|                 2|\n",
      "|         LLEIDA|Dona|                      D01A|                29|\n",
      "|         LLEIDA|Dona|                      D01A|                 1|\n",
      "|         LLEIDA|Dona|                      D06A|                19|\n",
      "|         LLEIDA|Dona|                      D06B|                 1|\n",
      "|         LLEIDA|Dona|                      D07A|                28|\n",
      "|         LLEIDA|Dona|                      D07A|                22|\n",
      "|         LLEIDA|Dona|                      D11A|                 3|\n",
      "+---------------+----+--------------------------+------------------+\n",
      "only showing top 20 rows\n",
      "\n"
     ]
    }
   ],
   "source": [
    "data = data.select(\"regió sanitària\", \"sexe\", \"codi del grup ATC nivell 3\", \"nombre de receptes\")\n",
    "data.show(20)"
   ]
  },
  {
   "cell_type": "markdown",
   "id": "2ce6dce9",
   "metadata": {},
   "source": [
    "### Agregamos alguna informacion interesante"
   ]
  },
  {
   "cell_type": "code",
   "execution_count": 16,
   "id": "cdcab43b",
   "metadata": {},
   "outputs": [
    {
     "name": "stderr",
     "output_type": "stream",
     "text": [
      "[Stage 22:===============================================>      (177 + 2) / 200]\r"
     ]
    },
    {
     "name": "stdout",
     "output_type": "stream",
     "text": [
      "+--------------------------+----+------------------+-----------------------+\n",
      "|codi del grup ATC nivell 3|sexe|nombre de receptes|sum(nombre de receptes)|\n",
      "+--------------------------+----+------------------+-----------------------+\n",
      "|                      A01A|Dona|                14|                  182.0|\n",
      "|                      A01A|Home|                18|                   36.0|\n",
      "|                      A01A|Dona|                 2|                  382.0|\n",
      "|                      A01A|Dona|                41|                   41.0|\n",
      "|                      A01A|Dona|                 3|                  357.0|\n",
      "|                      A01A|Dona|                47|                   47.0|\n",
      "|                      A01A|Home|                60|                   60.0|\n",
      "|                      A01A|Home|                45|                   45.0|\n",
      "|                      A01A|Home|                39|                   39.0|\n",
      "|                      A01A|Dona|                11|                  319.0|\n",
      "+--------------------------+----+------------------+-----------------------+\n",
      "only showing top 10 rows\n",
      "\n"
     ]
    },
    {
     "name": "stderr",
     "output_type": "stream",
     "text": [
      "                                                                                \r"
     ]
    },
    {
     "ename": "AnalysisException",
     "evalue": "cannot resolve '`sum(nombre de receptes)`' given input columns: [codi del grup ATC nivell 3, nombre de receptes, regió sanitària, sexe];;\n'Sort ['sum(nombre de receptes) ASC NULLS FIRST], true\n+- Project [regió sanitària#19, sexe#21, codi del grup ATC nivell 3#26, nombre de receptes#30]\n   +- Relation[any#16,mes#17,codi de la regió sanitària#18,regió sanitària#19,grup d'edat#20,sexe#21,codi del grup ATC nivell 1#22,grup ATC nivell 1#23,codi del grup ATC nivell 2#24,grup ATC nivell 2#25,codi del grup ATC nivell 3#26,grup ATC nivell 3#27,codi del grup ATC nivell 4#28,grup ATC nivell 4#29,nombre de receptes#30,nombre d'envasos#31,import íntegre#32,import aportació CatSalut#33] csv\n",
     "output_type": "error",
     "traceback": [
      "\u001b[0;31m---------------------------------------------------------------------------\u001b[0m",
      "\u001b[0;31mAnalysisException\u001b[0m                         Traceback (most recent call last)",
      "Cell \u001b[0;32mIn[16], line 4\u001b[0m\n\u001b[1;32m      1\u001b[0m data\u001b[38;5;241m.\u001b[39mgroupby(\u001b[38;5;124m\"\u001b[39m\u001b[38;5;124mcodi del grup ATC nivell 3\u001b[39m\u001b[38;5;124m\"\u001b[39m,\u001b[38;5;124m\"\u001b[39m\u001b[38;5;124msexe\u001b[39m\u001b[38;5;124m\"\u001b[39m,\u001b[38;5;124m\"\u001b[39m\u001b[38;5;124mnombre de receptes\u001b[39m\u001b[38;5;124m\"\u001b[39m)\u001b[38;5;241m.\u001b[39magg({\u001b[38;5;124m'\u001b[39m\u001b[38;5;124mnombre de receptes\u001b[39m\u001b[38;5;124m'\u001b[39m: \u001b[38;5;124m'\u001b[39m\u001b[38;5;124msum\u001b[39m\u001b[38;5;124m'\u001b[39m})\u001b[38;5;241m.\u001b[39morderBy(\u001b[38;5;124m\"\u001b[39m\u001b[38;5;124mcodi del grup ATC nivell 3\u001b[39m\u001b[38;5;124m\"\u001b[39m)\u001b[38;5;241m.\u001b[39mshow(\u001b[38;5;241m10\u001b[39m)\n\u001b[1;32m      3\u001b[0m \u001b[38;5;66;03m# ordenarlo y mostrar.\u001b[39;00m\n\u001b[0;32m----> 4\u001b[0m \u001b[43mdata\u001b[49m\u001b[38;5;241;43m.\u001b[39;49m\u001b[43msort\u001b[49m\u001b[43m(\u001b[49m\u001b[38;5;124;43m\"\u001b[39;49m\u001b[38;5;124;43msum(nombre de receptes)\u001b[39;49m\u001b[38;5;124;43m\"\u001b[39;49m\u001b[43m)\u001b[49m\u001b[38;5;241m.\u001b[39mshow()\n",
      "File \u001b[0;32m/usr/local/lib/python3.9/dist-packages/pyspark/sql/dataframe.py:1195\u001b[0m, in \u001b[0;36mDataFrame.sort\u001b[0;34m(self, *cols, **kwargs)\u001b[0m\n\u001b[1;32m   1171\u001b[0m \u001b[38;5;129m@ignore_unicode_prefix\u001b[39m\n\u001b[1;32m   1172\u001b[0m \u001b[38;5;129m@since\u001b[39m(\u001b[38;5;241m1.3\u001b[39m)\n\u001b[1;32m   1173\u001b[0m \u001b[38;5;28;01mdef\u001b[39;00m\u001b[38;5;250m \u001b[39m\u001b[38;5;21msort\u001b[39m(\u001b[38;5;28mself\u001b[39m, \u001b[38;5;241m*\u001b[39mcols, \u001b[38;5;241m*\u001b[39m\u001b[38;5;241m*\u001b[39mkwargs):\n\u001b[1;32m   1174\u001b[0m \u001b[38;5;250m    \u001b[39m\u001b[38;5;124;03m\"\"\"Returns a new :class:`DataFrame` sorted by the specified column(s).\u001b[39;00m\n\u001b[1;32m   1175\u001b[0m \n\u001b[1;32m   1176\u001b[0m \u001b[38;5;124;03m    :param cols: list of :class:`Column` or column names to sort by.\u001b[39;00m\n\u001b[0;32m   (...)\u001b[0m\n\u001b[1;32m   1193\u001b[0m \u001b[38;5;124;03m    [Row(age=5, name=u'Bob'), Row(age=2, name=u'Alice')]\u001b[39;00m\n\u001b[1;32m   1194\u001b[0m \u001b[38;5;124;03m    \"\"\"\u001b[39;00m\n\u001b[0;32m-> 1195\u001b[0m     jdf \u001b[38;5;241m=\u001b[39m \u001b[38;5;28;43mself\u001b[39;49m\u001b[38;5;241;43m.\u001b[39;49m\u001b[43m_jdf\u001b[49m\u001b[38;5;241;43m.\u001b[39;49m\u001b[43msort\u001b[49m\u001b[43m(\u001b[49m\u001b[38;5;28;43mself\u001b[39;49m\u001b[38;5;241;43m.\u001b[39;49m\u001b[43m_sort_cols\u001b[49m\u001b[43m(\u001b[49m\u001b[43mcols\u001b[49m\u001b[43m,\u001b[49m\u001b[43m \u001b[49m\u001b[43mkwargs\u001b[49m\u001b[43m)\u001b[49m\u001b[43m)\u001b[49m\n\u001b[1;32m   1196\u001b[0m     \u001b[38;5;28;01mreturn\u001b[39;00m DataFrame(jdf, \u001b[38;5;28mself\u001b[39m\u001b[38;5;241m.\u001b[39msql_ctx)\n",
      "File \u001b[0;32m/usr/local/lib/python3.9/dist-packages/py4j/java_gateway.py:1304\u001b[0m, in \u001b[0;36mJavaMember.__call__\u001b[0;34m(self, *args)\u001b[0m\n\u001b[1;32m   1298\u001b[0m command \u001b[38;5;241m=\u001b[39m proto\u001b[38;5;241m.\u001b[39mCALL_COMMAND_NAME \u001b[38;5;241m+\u001b[39m\\\n\u001b[1;32m   1299\u001b[0m     \u001b[38;5;28mself\u001b[39m\u001b[38;5;241m.\u001b[39mcommand_header \u001b[38;5;241m+\u001b[39m\\\n\u001b[1;32m   1300\u001b[0m     args_command \u001b[38;5;241m+\u001b[39m\\\n\u001b[1;32m   1301\u001b[0m     proto\u001b[38;5;241m.\u001b[39mEND_COMMAND_PART\n\u001b[1;32m   1303\u001b[0m answer \u001b[38;5;241m=\u001b[39m \u001b[38;5;28mself\u001b[39m\u001b[38;5;241m.\u001b[39mgateway_client\u001b[38;5;241m.\u001b[39msend_command(command)\n\u001b[0;32m-> 1304\u001b[0m return_value \u001b[38;5;241m=\u001b[39m \u001b[43mget_return_value\u001b[49m\u001b[43m(\u001b[49m\n\u001b[1;32m   1305\u001b[0m \u001b[43m    \u001b[49m\u001b[43manswer\u001b[49m\u001b[43m,\u001b[49m\u001b[43m \u001b[49m\u001b[38;5;28;43mself\u001b[39;49m\u001b[38;5;241;43m.\u001b[39;49m\u001b[43mgateway_client\u001b[49m\u001b[43m,\u001b[49m\u001b[43m \u001b[49m\u001b[38;5;28;43mself\u001b[39;49m\u001b[38;5;241;43m.\u001b[39;49m\u001b[43mtarget_id\u001b[49m\u001b[43m,\u001b[49m\u001b[43m \u001b[49m\u001b[38;5;28;43mself\u001b[39;49m\u001b[38;5;241;43m.\u001b[39;49m\u001b[43mname\u001b[49m\u001b[43m)\u001b[49m\n\u001b[1;32m   1307\u001b[0m \u001b[38;5;28;01mfor\u001b[39;00m temp_arg \u001b[38;5;129;01min\u001b[39;00m temp_args:\n\u001b[1;32m   1308\u001b[0m     temp_arg\u001b[38;5;241m.\u001b[39m_detach()\n",
      "File \u001b[0;32m/usr/local/lib/python3.9/dist-packages/pyspark/sql/utils.py:137\u001b[0m, in \u001b[0;36mcapture_sql_exception.<locals>.deco\u001b[0;34m(*a, **kw)\u001b[0m\n\u001b[1;32m    133\u001b[0m converted \u001b[38;5;241m=\u001b[39m convert_exception(e\u001b[38;5;241m.\u001b[39mjava_exception)\n\u001b[1;32m    134\u001b[0m \u001b[38;5;28;01mif\u001b[39;00m \u001b[38;5;129;01mnot\u001b[39;00m \u001b[38;5;28misinstance\u001b[39m(converted, UnknownException):\n\u001b[1;32m    135\u001b[0m     \u001b[38;5;66;03m# Hide where the exception came from that shows a non-Pythonic\u001b[39;00m\n\u001b[1;32m    136\u001b[0m     \u001b[38;5;66;03m# JVM exception message.\u001b[39;00m\n\u001b[0;32m--> 137\u001b[0m     \u001b[43mraise_from\u001b[49m\u001b[43m(\u001b[49m\u001b[43mconverted\u001b[49m\u001b[43m)\u001b[49m\n\u001b[1;32m    138\u001b[0m \u001b[38;5;28;01melse\u001b[39;00m:\n\u001b[1;32m    139\u001b[0m     \u001b[38;5;28;01mraise\u001b[39;00m\n",
      "File \u001b[0;32m<string>:3\u001b[0m, in \u001b[0;36mraise_from\u001b[0;34m(e)\u001b[0m\n",
      "\u001b[0;31mAnalysisException\u001b[0m: cannot resolve '`sum(nombre de receptes)`' given input columns: [codi del grup ATC nivell 3, nombre de receptes, regió sanitària, sexe];;\n'Sort ['sum(nombre de receptes) ASC NULLS FIRST], true\n+- Project [regió sanitària#19, sexe#21, codi del grup ATC nivell 3#26, nombre de receptes#30]\n   +- Relation[any#16,mes#17,codi de la regió sanitària#18,regió sanitària#19,grup d'edat#20,sexe#21,codi del grup ATC nivell 1#22,grup ATC nivell 1#23,codi del grup ATC nivell 2#24,grup ATC nivell 2#25,codi del grup ATC nivell 3#26,grup ATC nivell 3#27,codi del grup ATC nivell 4#28,grup ATC nivell 4#29,nombre de receptes#30,nombre d'envasos#31,import íntegre#32,import aportació CatSalut#33] csv\n"
     ]
    }
   ],
   "source": [
    "data.groupby(\"codi del grup ATC nivell 3\",\"sexe\",\"nombre de receptes\").agg({'nombre de receptes': 'sum'}).orderBy(\"codi del grup ATC nivell 3\").show(10)"
   ]
  },
  {
   "cell_type": "code",
   "execution_count": 19,
   "id": "5820147f",
   "metadata": {},
   "outputs": [
    {
     "name": "stderr",
     "output_type": "stream",
     "text": [
      "                                                                                \r"
     ]
    },
    {
     "name": "stdout",
     "output_type": "stream",
     "text": [
      "+-----------------+----------------------------+\n",
      "|             sexe|sum(sum(nombre de receptes))|\n",
      "+-----------------+----------------------------+\n",
      "|             Dona|                 3.8935871E7|\n",
      "|             Home|                 2.9600307E7|\n",
      "|           Altres|                     25077.0|\n",
      "|Sense especificar|                    300806.0|\n",
      "+-----------------+----------------------------+\n",
      "\n"
     ]
    }
   ],
   "source": [
    "# Agregamos por sexo\n",
    "data = data.groupby(\"sexe\").agg({'sum(nombre de receptes)': 'sum'})\n",
    "data.show(10)"
   ]
  },
  {
   "cell_type": "markdown",
   "id": "b1d8985f",
   "metadata": {},
   "source": [
    "### Graficamos"
   ]
  },
  {
   "cell_type": "code",
   "execution_count": 23,
   "id": "6b013acc",
   "metadata": {},
   "outputs": [
    {
     "name": "stderr",
     "output_type": "stream",
     "text": [
      "                                                                                \r"
     ]
    },
    {
     "data": {
      "text/plain": [
       "'recetas_por_sexo.html'"
      ]
     },
     "execution_count": 23,
     "metadata": {},
     "output_type": "execute_result"
    }
   ],
   "source": [
    "dataFrame = data.toPandas()\n",
    "\n",
    "# Crear gráfico de barras\n",
    "fig = go.Figure(go.Bar(\n",
    "    x=dataFrame['sexe'],\n",
    "    y=dataFrame['sum(sum(nombre de receptes))'],\n",
    "    marker_color='indigo'\n",
    "))\n",
    "fig.update_layout(title=\"Recetas totales emitidas por sexo\", xaxis_title=\"Manufacturer\", yaxis_title=\"Num. Recetas\")\n",
    "plot(fig, filename='recetas_por_sexo.html')"
   ]
  },
  {
   "cell_type": "markdown",
   "id": "8618a1ad",
   "metadata": {},
   "source": [
    "### Por ultimo detenemos Spark"
   ]
  },
  {
   "cell_type": "code",
   "execution_count": 24,
   "id": "a3b92b6f",
   "metadata": {},
   "outputs": [],
   "source": [
    "spark.stop()"
   ]
  },
  {
   "cell_type": "code",
   "execution_count": null,
   "id": "ea149a9c",
   "metadata": {},
   "outputs": [],
   "source": []
  }
 ],
 "metadata": {
  "kernelspec": {
   "display_name": "Python 3 (ipykernel)",
   "language": "python",
   "name": "python3"
  },
  "language_info": {
   "codemirror_mode": {
    "name": "ipython",
    "version": 3
   },
   "file_extension": ".py",
   "mimetype": "text/x-python",
   "name": "python",
   "nbconvert_exporter": "python",
   "pygments_lexer": "ipython3",
   "version": "3.9.2"
  }
 },
 "nbformat": 4,
 "nbformat_minor": 5
}
